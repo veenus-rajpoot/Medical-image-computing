{
 "cells": [
  {
   "cell_type": "code",
   "execution_count": 3,
   "metadata": {},
   "outputs": [],
   "source": [
    "import numpy as np\n",
    "import scipy.io as sio\n",
    "import matplotlib.pyplot as plt\n",
    "from skimage.metrics import normalized_root_mse\n",
    "from skimage.draw import line\n",
    "import mat73\n"
   ]
  },
  {
   "cell_type": "code",
   "execution_count": 10,
   "metadata": {},
   "outputs": [
    {
     "data": {
      "text/plain": [
       "{'imageAC': array([[0., 0., 0., ..., 0., 0., 0.],\n",
       "        [0., 0., 0., ..., 0., 0., 0.],\n",
       "        [0., 0., 0., ..., 0., 0., 0.],\n",
       "        ...,\n",
       "        [0., 0., 0., ..., 0., 0., 0.],\n",
       "        [0., 0., 0., ..., 0., 0., 0.],\n",
       "        [0., 0., 0., ..., 0., 0., 0.]], shape=(512, 512))}"
      ]
     },
     "execution_count": 10,
     "metadata": {},
     "output_type": "execute_result"
    }
   ],
   "source": [
    "data = mat73.loadmat(\"data/assignmentMathImagingRecon_chestCT.mat\")\n",
    "data"
   ]
  },
  {
   "cell_type": "code",
   "execution_count": 11,
   "metadata": {},
   "outputs": [],
   "source": [
    "chestCT = data[\"imageAC\"]\n",
    "image_size = chestCT.shape[0]"
   ]
  },
  {
   "cell_type": "code",
   "execution_count": 5,
   "metadata": {},
   "outputs": [],
   "source": [
    "# Define function to generate Radon transform matrix\n",
    "def radon_matrix(size, angles):\n",
    "    \"\"\"\n",
    "    Construct the system matrix A manually for ART.\n",
    "    \"\"\"\n",
    "    A = []\n",
    "    n = size  # Assume square image (n x n)\n",
    "    center = n // 2\n",
    "    for theta in angles:\n",
    "        theta_rad = np.deg2rad(theta)\n",
    "        sin_theta, cos_theta = np.sin(theta_rad), np.cos(theta_rad)\n",
    "\n",
    "        for x in range(n):\n",
    "            y = int(center + (x - center) * sin_theta)\n",
    "            x_new = int(center + (x - center) * cos_theta)\n",
    "            if 0 <= x_new < n and 0 <= y < n:\n",
    "                row = np.zeros((n, n))\n",
    "                rr, cc = line(center, center, x_new, y)\n",
    "                row[rr, cc] = 1\n",
    "                A.append(row.flatten())\n",
    "\n",
    "    return np.array(A)"
   ]
  },
  {
   "cell_type": "code",
   "execution_count": 7,
   "metadata": {},
   "outputs": [],
   "source": [
    "# Define function for ART algorithm\n",
    "def myART(projections, angles, lambda_val, max_iter=50, ordering='sequential'):\n",
    "    \"\"\"\n",
    "    ART implementation with different orderings.\n",
    "    projections: measured sinogram (1D array)\n",
    "    angles: angles used in measurement\n",
    "    lambda_val: step size\n",
    "    max_iter: number of iterations\n",
    "    ordering: 'sequential', 'random', or 'cyclic'\n",
    "    \"\"\"\n",
    "    n = image_size\n",
    "    A = radon_matrix(n, angles)\n",
    "    x = np.zeros(n * n)  # Initial estimate\n",
    "\n",
    "    num_projections = len(angles)\n",
    "    if ordering == 'random':\n",
    "        order = np.random.permutation(num_projections)\n",
    "    elif ordering == 'cyclic':\n",
    "        order = np.tile(np.arange(num_projections), 2)[:num_projections]\n",
    "    else:\n",
    "        order = np.arange(num_projections)\n",
    "\n",
    "    rrmse_list = []\n",
    "\n",
    "    for i in range(max_iter):\n",
    "        for j in order:\n",
    "            row = A[j]\n",
    "            projection_diff = projections[j] - np.dot(row, x)\n",
    "            x += (lambda_val / np.linalg.norm(row) ** 2) * projection_diff * row\n",
    "\n",
    "        # Compute RRMSE\n",
    "        reconstructed = x.reshape(n, n)\n",
    "        rrmse = normalized_root_mse(chestCT, reconstructed)\n",
    "        rrmse_list.append(rrmse)\n",
    "\n",
    "    return x.reshape(n, n), rrmse_list"
   ]
  },
  {
   "cell_type": "code",
   "execution_count": 12,
   "metadata": {},
   "outputs": [
    {
     "ename": "",
     "evalue": "",
     "output_type": "error",
     "traceback": [
      "\u001b[1;31mThe Kernel crashed while executing code in the current cell or a previous cell. \n",
      "\u001b[1;31mPlease review the code in the cell(s) to identify a possible cause of the failure. \n",
      "\u001b[1;31mClick <a href='https://aka.ms/vscodeJupyterKernelCrash'>here</a> for more info. \n",
      "\u001b[1;31mView Jupyter <a href='command:jupyter.viewOutput'>log</a> for further details."
     ]
    }
   ],
   "source": [
    "# Simulate Radon transform & add noise\n",
    "angles = np.arange(0, 180, 1)  # 180 angles spanning 180 degrees\n",
    "A = radon_matrix(image_size, angles)\n",
    "sinogram = A @ chestCT.flatten()"
   ]
  },
  {
   "cell_type": "code",
   "execution_count": null,
   "metadata": {},
   "outputs": [],
   "source": [
    "# Add Gaussian noise (5% of intensity range)\n",
    "noise_std = 0.05 * (np.max(sinogram) - np.min(sinogram))\n",
    "sinogram_noisy = sinogram + np.random.normal(0, noise_std, sinogram.shape)"
   ]
  }
 ],
 "metadata": {
  "kernelspec": {
   "display_name": "Python 3",
   "language": "python",
   "name": "python3"
  },
  "language_info": {
   "codemirror_mode": {
    "name": "ipython",
    "version": 3
   },
   "file_extension": ".py",
   "mimetype": "text/x-python",
   "name": "python",
   "nbconvert_exporter": "python",
   "pygments_lexer": "ipython3",
   "version": "3.12.4"
  }
 },
 "nbformat": 4,
 "nbformat_minor": 2
}
